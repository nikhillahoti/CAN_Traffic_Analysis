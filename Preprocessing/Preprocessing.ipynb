{
 "cells": [
  {
   "cell_type": "code",
   "execution_count": 3,
   "metadata": {},
   "outputs": [],
   "source": [
    "def preProcessData(filename):\n",
    "\n",
    "    with open(filename) as f:\n",
    "        content = f.readlines()\n",
    "\n",
    "    content = [x.strip() for x in content]\n",
    "\n",
    "    fIdhData = open(\"Preprocessed/IDH-DATA.txt\", \"w\")\n",
    "    fIdlData = open(\"Preprocessed/IDL-DATA.txt\", \"w\")\n",
    "    fIdhIdlData = open(\"Preprocessed/IDH-IDL-DATA.txt\", \"w\")\n",
    "    fIdhIdl = open(\"Preprocessed/IDH-IDL.txt\", \"w\")\n",
    "    fData = open(\"Preprocessed/DATA.txt\", \"w\")\n",
    "\n",
    "    fIdhData.write(\"IDH,DATA\\n\")\n",
    "    fIdlData.write(\"IDL,DATA\\n\")\n",
    "    fIdhIdlData.write(\"IDH,IDL,DATA\\n\")\n",
    "    fIdhIdl.write(\"IDH,IDL\\n\")\n",
    "    fData.write(\"DATA\\n\")\n",
    "\n",
    "    for i in range(len(content)):\n",
    "        parts = content[i].split(\",\")\n",
    "        IDH = parts[0].split(\":\")[1].strip()\n",
    "        IDL = parts[1].split(\":\")[1].strip()\n",
    "        LEN = parts[2].split(\":\")[1].strip()\n",
    "        DATA = parts[3].split(\":\")[1].replace(\" \", \"\")\n",
    "\n",
    "        fIdhData.write(IDH + \",\" + DATA + \"\\n\")\n",
    "        fIdlData.write(IDL + \",\" + DATA + \"\\n\")\n",
    "        fIdhIdlData.write(IDH + \",\" + IDL + \",\" + DATA + \"\\n\")\n",
    "        fIdhIdl.write(IDH + \",\" + IDL + \"\\n\")\n",
    "        fData.write(DATA + \"\" + \"\\n\")"
   ]
  },
  {
   "cell_type": "code",
   "execution_count": 5,
   "metadata": {},
   "outputs": [],
   "source": [
    "fileName = \"Ford/drive.dat\"\n",
    "preProcessData(fileName)"
   ]
  },
  {
   "cell_type": "code",
   "execution_count": null,
   "metadata": {},
   "outputs": [],
   "source": []
  }
 ],
 "metadata": {
  "kernelspec": {
   "display_name": "Python 3",
   "language": "python",
   "name": "python3"
  },
  "language_info": {
   "codemirror_mode": {
    "name": "ipython",
    "version": 3
   },
   "file_extension": ".py",
   "mimetype": "text/x-python",
   "name": "python",
   "nbconvert_exporter": "python",
   "pygments_lexer": "ipython3",
   "version": "3.7.0"
  }
 },
 "nbformat": 4,
 "nbformat_minor": 2
}
